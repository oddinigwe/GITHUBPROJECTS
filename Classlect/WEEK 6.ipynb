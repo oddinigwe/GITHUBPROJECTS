{
 "cells": [
  {
   "cell_type": "code",
   "execution_count": 17,
   "metadata": {},
   "outputs": [],
   "source": [
    "## -*- coding: utf-8 -*-\n",
    "import pygal\n",
    "\n",
    "param_line_chart = pygal.Line(interpolate='cubic', label_font_size=20, x_label_rotation=50)\n",
    "param_line_chart.title = 'Parameter Line Chart'\n",
    "param_line_chart.x_title='Data-Sets (X Axis)'\n",
    "param_line_chart.y_title='Values (Y Axis)'\n",
    "\n",
    "param_line_chart.x_labels = map(str, [\"Data Object 1\", \"Data Object 2\", \"Data Object 3\", \"Data Object 4\", \"Data Object 5\", \"Data Object 6\"])\n",
    "\n",
    "param_line_chart.add('Data-Set 1', [8, 16, 24, 32, 48, 56]) \n",
    "param_line_chart.add('Data-Set 2', [2, 4, 6, 8, 10, 12]) \n",
    "param_line_chart.add('Data-Set 3', [1, 3, 5, 7, 9, 12]) \n",
    "\n",
    "param_line_chart.render_to_file('lineparam.svg')"
   ]
  },
  {
   "cell_type": "code",
   "execution_count": null,
   "metadata": {
    "collapsed": true
   },
   "outputs": [],
   "source": [
    "# param_line_chart = pygal.Line(interpolate='cubic', label_font_size=20, x_label_rotation=50, title_font_size=24, x_title_font_size=24, y_title_font_size=24)\n",
    "param_line_chart.title = 'Parameter Line Chart'\n",
    "param_line_chart.x_title='Data-Sets (X Axis)'\n",
    "param_line_chart.y_title='Values (Y Axis)'\n",
    "\n",
    "param_line_chart.x_labels = map(str, [\"Data Object 1\", \"Data Object 2\", \"Data Object 3\", \"Data Object 4\", \"Data Object 5\", \"Data Object 6\"])\n",
    "\n",
    "param_line_chart.add('Data-Set 1', [8, 16, 24, 32, 48, 56]) \n",
    "param_line_chart.add('Data-Set 2', [2, 4, 6, 8, 10, 12]) \n",
    "param_line_chart.add('Data-Set 3', [1, 3, 5, 7, 9, 12]) \n",
    "\n",
    "param_line_chart.render_to_file('lineparam.svg')"
   ]
  }
 ],
 "metadata": {
  "kernelspec": {
   "display_name": "Python 3",
   "language": "python",
   "name": "python3"
  },
  "language_info": {
   "codemirror_mode": {
    "name": "ipython",
    "version": 3
   },
   "file_extension": ".py",
   "mimetype": "text/x-python",
   "name": "python",
   "nbconvert_exporter": "python",
   "pygments_lexer": "ipython3",
   "version": "3.6.1"
  }
 },
 "nbformat": 4,
 "nbformat_minor": 2
}
