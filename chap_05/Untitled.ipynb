{
 "cells": [
  {
   "cell_type": "code",
   "execution_count": 2,
   "metadata": {
    "collapsed": true
   },
   "outputs": [],
   "source": [
    "# -*- coding: utf-8 -*-\n",
    "import pygal\n",
    "from pygal.maps.world import World\n",
    "from pygal.maps.world import COUNTRIES\n",
    "\n",
    "france_chart = pygal.maps.fr.Departments()\n",
    "france_chart.title = 'Sample departments'\n",
    "france_chart.add('Country', ['fr'])\n",
    "france_chart.add('data set', {\n",
    "    'df1':17,\n",
    "    'df2':27,\n",
    "    'df3':38,\n",
    "    'df4':42,\n",
    "    'df5':19\n",
    "})\n",
    "\n",
    "france_chart.render_to_file('France.svg')\n"
   ]
  },
  {
   "cell_type": "code",
   "execution_count": null,
   "metadata": {
    "collapsed": true
   },
   "outputs": [],
   "source": []
  }
 ],
 "metadata": {
  "kernelspec": {
   "display_name": "Python [default]",
   "language": "python",
   "name": "python3"
  },
  "language_info": {
   "codemirror_mode": {
    "name": "ipython",
    "version": 3
   },
   "file_extension": ".py",
   "mimetype": "text/x-python",
   "name": "python",
   "nbconvert_exporter": "python",
   "pygments_lexer": "ipython3",
   "version": "3.6.1"
  }
 },
 "nbformat": 4,
 "nbformat_minor": 2
}
