{
 "cells": [
  {
   "cell_type": "code",
   "execution_count": 2,
   "metadata": {
    "collapsed": true
   },
   "outputs": [],
   "source": [
    "# -*- coding: utf-8 -*-\n",
    "import pygal\n",
    "\n",
    "# install pygal maps package\n",
    "# pip install pygal_maps_world\n",
    "# install france map\n",
    "# pip install pygal_maps_fr\n",
    "\n",
    "fr_chart = pygal.maps.fr.Departments()\n",
    "fr_chart.title = 'Sample departments'\n",
    "fr_chart.add('Data-set 1', ['17'])\n",
    "fr_chart.add('Data-set 2', ['27'])\n",
    "fr_chart.add('Data-set 3', ['38'])\n",
    "fr_chart.add('Data-set 4', ['42'])\n",
    "fr_chart.add('Data-set 5', ['19'])\n",
    "\n",
    "fr_chart.render_to_file('franceMap.svg')"
   ]
  },
  {
   "cell_type": "code",
   "execution_count": null,
   "metadata": {
    "collapsed": true
   },
   "outputs": [],
   "source": []
  }
 ],
 "metadata": {
  "kernelspec": {
   "display_name": "Python [conda env:py27]",
   "language": "python",
   "name": "conda-env-py27-py"
  },
  "language_info": {
   "codemirror_mode": {
    "name": "ipython",
    "version": 2
   },
   "file_extension": ".py",
   "mimetype": "text/x-python",
   "name": "python",
   "nbconvert_exporter": "python",
   "pygments_lexer": "ipython2",
   "version": "2.7.13"
  }
 },
 "nbformat": 4,
 "nbformat_minor": 2
}
