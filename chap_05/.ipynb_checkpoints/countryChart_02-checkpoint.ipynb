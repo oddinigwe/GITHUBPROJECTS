{
 "cells": [
  {
   "cell_type": "code",
   "execution_count": 18,
   "metadata": {},
   "outputs": [],
   "source": [
    "# -*- coding: utf-8 -*-\n",
    "import pygal\n",
    "\n",
    "# install pygal maps package\n",
    "# pip install pygal_maps_world\n",
    "# install france map\n",
    "# pip install pygal_maps_fr\n",
    "\n",
    "fr_chart = pygal.maps.fr.Regions()\n",
    "fr_chart.title = 'France Regions'\n",
    "fr_chart.add('', ['24'])\n",
    "fr_chart.add('', ['41'])\n",
    "fr_chart.add('', ['22'])\n",
    "fr_chart.add('', ['23'])\n",
    "fr_chart.add('', ['94'])\n",
    "\n",
    "fr_chart.render_to_file('franceRegions_map.svg')"
   ]
  },
  {
   "cell_type": "code",
   "execution_count": null,
   "metadata": {
    "collapsed": true
   },
   "outputs": [],
   "source": []
  }
 ],
 "metadata": {
  "kernelspec": {
   "display_name": "Python [conda env:py27]",
   "language": "python",
   "name": "conda-env-py27-py"
  },
  "language_info": {
   "codemirror_mode": {
    "name": "ipython",
    "version": 2
   },
   "file_extension": ".py",
   "mimetype": "text/x-python",
   "name": "python",
   "nbconvert_exporter": "python",
   "pygments_lexer": "ipython2",
   "version": "2.7.13"
  }
 },
 "nbformat": 4,
 "nbformat_minor": 2
}
