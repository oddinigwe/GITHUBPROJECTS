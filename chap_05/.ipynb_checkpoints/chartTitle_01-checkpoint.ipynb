{
 "cells": [
  {
   "cell_type": "code",
   "execution_count": 1,
   "metadata": {
    "collapsed": true
   },
   "outputs": [],
   "source": [
    "# -*- coding: utf-8 -*-\n",
    "import pygal\n",
    "\n",
    "param_line_chart = pygal.Line(interpolate='cubic', label_font_size=20, x_label_rotation=50)\n",
    "param_line_chart.title = 'Parameter Line Chart'\n",
    "param_line_chart.x_title='Data-Sets (X Axis)'\n",
    "param_line_chart.y_title='Values (Y Axis)'\n",
    "\n",
    "param_line_chart.x_labels = map(str, [\"Data Object 1\", \"Data Object 2\", \"Data Object 3\", \"Data Object 4\", \"Data Object 5\", \"Data Object 6\"])\n",
    "\n",
    "param_line_chart.add('Data-Set 1', [8, 16, 24, 32, 48, 56]) \n",
    "param_line_chart.add('Data-Set 2', [2, 4, 6, 8, 10, 12]) \n",
    "param_line_chart.add('Data-Set 3', [1, 3, 5, 7, 9, 12]) \n",
    "\n",
    "param_line_chart.render_to_file('lineparam.svg')"
   ]
  },
  {
   "cell_type": "code",
   "execution_count": null,
   "metadata": {
    "collapsed": true
   },
   "outputs": [],
   "source": []
  }
 ],
 "metadata": {
  "kernelspec": {
   "display_name": "Python [conda env:py27]",
   "language": "python",
   "name": "conda-env-py27-py"
  },
  "language_info": {
   "codemirror_mode": {
    "name": "ipython",
    "version": 2
   },
   "file_extension": ".py",
   "mimetype": "text/x-python",
   "name": "python",
   "nbconvert_exporter": "python",
   "pygments_lexer": "ipython2",
   "version": "2.7.13"
  }
 },
 "nbformat": 4,
 "nbformat_minor": 2
}
